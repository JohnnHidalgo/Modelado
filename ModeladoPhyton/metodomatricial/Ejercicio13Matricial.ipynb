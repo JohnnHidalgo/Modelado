{
 "cells": [
  {
   "cell_type": "code",
   "execution_count": 17,
   "metadata": {},
   "outputs": [],
   "source": [
    "import pandas as pd\n",
    "import numpy as np\n",
    "import math"
   ]
  },
  {
   "cell_type": "code",
   "execution_count": 18,
   "metadata": {},
   "outputs": [],
   "source": [
    "#Lectura de datos\n",
    "columns = pd.read_csv('datos.csv')\n",
    "Y = columns['promedio']\n",
    "X1 = columns['edad']\n",
    "X2 = columns['nmat']\n",
    "X3 = columns['hestudio']\n",
    "X4 = columns['recreo']\n",
    "X5 = columns['amigos']"
   ]
  },
  {
   "cell_type": "code",
   "execution_count": 19,
   "metadata": {},
   "outputs": [],
   "source": [
    "# Procesando las sumas\n",
    "def sum_x_square(x):\n",
    "    sum = 0\n",
    "    for value in x:\n",
    "        sum += pow(float(value),2)\n",
    "    return sum\n",
    "\n",
    "def sum_x1_x2(x1,x2):\n",
    "    sum = 0\n",
    "    for valueX1, valueX2 in zip(x1,x2):\n",
    "        sum += float(valueX1) * float(valueX2)\n",
    "    return sum\n",
    "\n",
    "def sum_x_y(x,y):\n",
    "    sum = 0\n",
    "    for valueX, valueY in zip(x,y):\n",
    "        sum += float(valueX) * math.pow(math.e, 1/float(valueY))\n",
    "    return sum"
   ]
  },
  {
   "cell_type": "code",
   "execution_count": 28,
   "metadata": {},
   "outputs": [
    {
     "name": "stdout",
     "output_type": "stream",
     "text": [
      "16131.0\n",
      "1288.0\n"
     ]
    }
   ],
   "source": [
    "#Matriz X\n",
    "x1_square = sum_x_square(np.array(X1))\n",
    "x1_times_x2 = sum_x1_x2(np.array(X1), np.array(X2))\n",
    "x2_square = sum_x_square(np.array(X2))\n",
    "print(x1_square)\n",
    "print(x2_square)"
   ]
  },
  {
   "cell_type": "code",
   "execution_count": 29,
   "metadata": {},
   "outputs": [
    {
     "name": "stdout",
     "output_type": "stream",
     "text": [
      "780.7376422600148\n",
      "220.755402657706\n"
     ]
    }
   ],
   "source": [
    "#Matriz Y\n",
    "y_times_x1 = sum_x_y(np.array(X1), np.array(Y))\n",
    "y_times_x2 = sum_x_y(np.array(X2), np.array(Y))\n",
    "print(y_times_x1)\n",
    "print(y_times_x2)"
   ]
  },
  {
   "cell_type": "code",
   "execution_count": 30,
   "metadata": {},
   "outputs": [
    {
     "name": "stdout",
     "output_type": "stream",
     "text": [
      "[[16131.  4542.]\n",
      " [ 4542.  1288.]]\n",
      "[[780.73764226]\n",
      " [220.75540266]]\n"
     ]
    }
   ],
   "source": [
    "#Construyendo las matrices\n",
    "x = np.matrix([[x1_square, x1_times_x2], [x1_times_x2, x2_square]])\n",
    "y = np.matrix([[y_times_x1], [y_times_x2]])\n",
    "print(x)\n",
    "print(y)"
   ]
  },
  {
   "cell_type": "code",
   "execution_count": 31,
   "metadata": {},
   "outputs": [
    {
     "name": "stdout",
     "output_type": "stream",
     "text": [
      "[[16131.  4542.]\n",
      " [ 4542.  1288.]]\n"
     ]
    }
   ],
   "source": [
    "#Matriz transpuesta\n",
    "x_transp = x.T\n",
    "print(x_transp)"
   ]
  },
  {
   "cell_type": "code",
   "execution_count": 24,
   "metadata": {},
   "outputs": [
    {
     "name": "stdout",
     "output_type": "stream",
     "text": [
      "[[0.01986231]\n",
      " [0.10135155]]\n"
     ]
    }
   ],
   "source": [
    "#Resolviendo\n",
    "B = np.linalg.inv(x_transp * x) * (x_transp * y)\n",
    "print(B)"
   ]
  },
  {
   "cell_type": "code",
   "execution_count": 25,
   "metadata": {},
   "outputs": [],
   "source": [
    "#Alphas\n",
    "alpha1 = float(B[0]) \n",
    "alpha2 = float(B[1])  "
   ]
  },
  {
   "cell_type": "code",
   "execution_count": 26,
   "metadata": {},
   "outputs": [
    {
     "name": "stdout",
     "output_type": "stream",
     "text": [
      "y^(-1) = x1 * 0.01986 + x2 * 0.10135\n"
     ]
    }
   ],
   "source": [
    "#El modelo final\n",
    "model = \"y^(-1) = x1 * \"+str(round(alpha1,5))+\" + x2 * \"+str(round(alpha2,5))+\"\"\n",
    "print(model)"
   ]
  },
  {
   "cell_type": "code",
   "execution_count": null,
   "metadata": {},
   "outputs": [],
   "source": []
  }
 ],
 "metadata": {
  "kernelspec": {
   "display_name": "Python 3",
   "language": "python",
   "name": "python3"
  },
  "language_info": {
   "codemirror_mode": {
    "name": "ipython",
    "version": 3
   },
   "file_extension": ".py",
   "mimetype": "text/x-python",
   "name": "python",
   "nbconvert_exporter": "python",
   "pygments_lexer": "ipython3",
   "version": "3.8.5"
  }
 },
 "nbformat": 4,
 "nbformat_minor": 4
}
