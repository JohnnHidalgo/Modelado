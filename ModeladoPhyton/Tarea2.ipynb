{
 "cells": [
  {
   "cell_type": "code",
   "execution_count": 23,
   "metadata": {},
   "outputs": [],
   "source": [
    "import numpy as np\n",
    "import matplotlib.pyplot as plt\n",
    "from scipy.integrate import odeint"
   ]
  },
  {
   "cell_type": "code",
   "execution_count": 59,
   "metadata": {},
   "outputs": [],
   "source": [
    "tdefunciones = 0.2\n",
    "tnacimiento   = 0.3\n",
    "temigracion  = 0.1\n",
    "empfijogen = 8000\n",
    "empevengen = 2000\n",
    "poblacioninicial = 15000\n",
    "poblacionactiva = 15000\n",
    "poblacióntotal = 0\n",
    "empserv = 10000"
   ]
  },
  {
   "cell_type": "code",
   "execution_count": 60,
   "metadata": {},
   "outputs": [],
   "source": [
    "def df_dt(tdefunciones,tnacimiento,temigracion,empfijogen,empevengen,poblacioninicial,empserv,poblacionactiva):\n",
    "    defunciones = poblacioninicial*tdefunciones\n",
    "    nacimientos = poblacioninicial*tnacimiento\n",
    "    emigracion = poblacioninicial*temigracion\n",
    "    emptotal = empserv+empevengen+empfijogen\n",
    "    poblacióntotal =poblacioninicial+nacimientos+defunciones-emigracion-poblacionactiva-empserv\n",
    "    return np.array([defunciones, nacimientos, emigracion, emptotal,poblacióntotal])"
   ]
  },
  {
   "cell_type": "code",
   "execution_count": 61,
   "metadata": {},
   "outputs": [],
   "source": [
    "poblaciongrafica = [150000]\n",
    "nuevapoblacion=150000\n",
    "for x in range(200):\n",
    "    vari =df_dt(tdefunciones,tnacimiento,temigracion,empfijogen,empevengen,nuevapoblacion,empserv,poblacionactiva)\n",
    "    nuevapoblacion=vari[4]\n",
    "    poblaciongrafica.append(nuevapoblacion)"
   ]
  },
  {
   "cell_type": "code",
   "execution_count": 63,
   "metadata": {},
   "outputs": [
    {
     "data": {
      "text/plain": [
       "[<matplotlib.lines.Line2D at 0x1d4d41371d0>]"
      ]
     },
     "execution_count": 63,
     "metadata": {},
     "output_type": "execute_result"
    },
    {
     "data": {
      "image/png": "[encoded data removed]",
      "text/plain": [
       "<Figure size 432x288 with 1 Axes>"
      ]
     },
     "metadata": {},
     "output_type": "display_data"
    }
   ],
   "source": [
    "plt.plot(poblaciongrafica, label='presa')"
   ]
  },
  {
   "cell_type": "code",
   "execution_count": null,
   "metadata": {},
   "outputs": [],
   "source": []
  },
  {
   "cell_type": "code",
   "execution_count": null,
   "metadata": {},
   "outputs": [],
   "source": []
  }
 ],
 "metadata": {
  "kernelspec": {
   "display_name": "Python 3",
   "language": "python",
   "name": "python3"
  },
  "language_info": {
   "codemirror_mode": {
    "name": "ipython",
    "version": 3
   },
   "file_extension": ".py",
   "mimetype": "text/x-python",
   "name": "python",
   "nbconvert_exporter": "python",
   "pygments_lexer": "ipython3",
   "version": "3.6.5"
  }
 },
 "nbformat": 4,
 "nbformat_minor": 2
}
