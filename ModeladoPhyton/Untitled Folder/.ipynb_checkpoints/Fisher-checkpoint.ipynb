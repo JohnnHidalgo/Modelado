{
 "cells": [
  {
   "cell_type": "code",
   "execution_count": 3,
   "metadata": {},
   "outputs": [],
   "source": [
    "import pandas as pd\n",
    "import numpy as np\n",
    "import math\n",
    "import matplotlib.pyplot as plt"
   ]
  },
  {
   "cell_type": "code",
   "execution_count": 4,
   "metadata": {},
   "outputs": [],
   "source": [
    "y = np.array([0, 1, 2, 3, 8, 10, 12])\n",
    "x = np.array([0, 1, 2, 3, 4, 5, 6])"
   ]
  },
  {
   "cell_type": "code",
   "execution_count": 16,
   "metadata": {},
   "outputs": [],
   "source": [
    "def sumXCuadrado(x):\n",
    "    sum = 0\n",
    "    for value in x:\n",
    "        sum += pow(float(value),2)\n",
    "    return sum\n",
    "\n",
    "def sumDosVariables(x1,x2):\n",
    "    sum = 0\n",
    "    for valueX1, valueX2 in zip(x1,x2):\n",
    "        sum += float(valueX1) * float(valueX2)\n",
    "    return sum\n",
    "\n",
    "def sumDosVariables(x1,x2):\n",
    "    sum = 0\n",
    "    for valueX1, valueX2 in zip(x1,x2):\n",
    "        sum += float(valueX1) * float(valueX2)\n",
    "    return sum\n",
    "\n",
    "def sumDosVariables(x1,x2):\n",
    "    sum = 0\n",
    "    for valueX1, valueX2 in zip(x1,x2):\n",
    "        sum += pow(float(valueX1) - float(valueX2),2)\n",
    "    return sum\n",
    "\n",
    "def sumDosVariablessrc(x1,x2):\n",
    "    sum = 0\n",
    "    for valueX1, valueX2 in zip(x1,x2):\n",
    "        sum += pow(float(valueX2) - float(valueX1),2)\n",
    "    return sum\n",
    "\n",
    "def sumDosVariablesstc(x1,x2):\n",
    "    sum = 0\n",
    "    for valueX1, valueX2 in zip(x1,x2):\n",
    "        sum += pow(float(valueX1) - float(promedio(x2)),2)\n",
    "    return sum\n",
    "\n",
    "\n",
    "def promedio(x1):\n",
    "    sum = 0\n",
    "    for valueX1 in x1:\n",
    "        sum += float(valueX1)\n",
    "    return sum/len(x1) \n",
    "\n",
    "def restaDosVariables(x1,x2):\n",
    "    sum = 0\n",
    "    for valueX1, valueX2 in zip(x1,x2):\n",
    "        sum += pow(float(valueX1) - float(promedio(x2)), 2)\n",
    "    return sum\n",
    "\n",
    "gradosdelibertad=0.9\n",
    "def varianza(x1,x2):\n",
    "    sum = restaDosVariables(x1,x2)/gradosdelibertad*len(x1)  \n",
    "    return sum\n"
   ]
  },
  {
   "cell_type": "code",
   "execution_count": 17,
   "metadata": {},
   "outputs": [
    {
     "name": "stdout",
     "output_type": "stream",
     "text": [
      "sec: 77.0\n",
      "src: 77.0\n",
      "stc: 169.0\n"
     ]
    }
   ],
   "source": [
    "sec= sumDosVariables(y,x)\n",
    "src= sumDosVariablessrc(y,x)\n",
    "stc= sumDosVariablesstc(y,x)\n",
    "\n",
    "print(\"sec:\",sec)\n",
    "print(\"src:\",src)\n",
    "print(\"stc:\",stc)\n",
    "\n"
   ]
  },
  {
   "cell_type": "code",
   "execution_count": 19,
   "metadata": {},
   "outputs": [
    {
     "name": "stdout",
     "output_type": "stream",
     "text": [
      "3.365564808430521\n"
     ]
    }
   ],
   "source": [
    "k=2.785\n",
    "m=7\n",
    "\n",
    "F= (sec/k)/(src/m-k)\n",
    "\n",
    "print(\"F:\",F)"
   ]
  }
 ],
 "metadata": {
  "kernelspec": {
   "display_name": "Python 3",
   "language": "python",
   "name": "python3"
  },
  "language_info": {
   "codemirror_mode": {
    "name": "ipython",
    "version": 3
   },
   "file_extension": ".py",
   "mimetype": "text/x-python",
   "name": "python",
   "nbconvert_exporter": "python",
   "pygments_lexer": "ipython3",
   "version": "3.8.5"
  }
 },
 "nbformat": 4,
 "nbformat_minor": 4
}
