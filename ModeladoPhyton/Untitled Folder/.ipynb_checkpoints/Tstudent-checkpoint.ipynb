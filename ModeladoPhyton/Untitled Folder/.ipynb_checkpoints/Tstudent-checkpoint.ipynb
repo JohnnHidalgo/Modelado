{
 "cells": [
  {
   "cell_type": "code",
   "execution_count": 3,
   "metadata": {},
   "outputs": [],
   "source": [
    "import pandas as pd\n",
    "import numpy as np\n",
    "import math\n",
    "import matplotlib.pyplot as plt"
   ]
  },
  {
   "cell_type": "code",
   "execution_count": 4,
   "metadata": {},
   "outputs": [],
   "source": [
    "columns = pd.read_csv('datos.csv')\n",
    "Y = columns['promedio']\n",
    "X1 = columns['edad']\n",
    "X2 = columns['nmat']\n",
    "X3 = columns['hestudio']\n",
    "X4 = columns['recreo']\n",
    "X5 = columns['amigos']"
   ]
  },
  {
   "cell_type": "code",
   "execution_count": 21,
   "metadata": {},
   "outputs": [],
   "source": [
    "def sumXCuadrado(x):\n",
    "    sum = 0\n",
    "    for value in x:\n",
    "        sum += pow(float(value),2)\n",
    "    return sum\n",
    "\n",
    "def sumDosVariables(x1,x2):\n",
    "    sum = 0\n",
    "    for valueX1, valueX2 in zip(x1,x2):\n",
    "        sum += float(valueX1) * float(valueX2)\n",
    "    return sum\n",
    "\n",
    "def sumDosVariables(x1,x2):\n",
    "    sum = 0\n",
    "    for valueX1, valueX2 in zip(x1,x2):\n",
    "        sum += float(valueX1) * float(valueX2)\n",
    "    return sum\n",
    "\n",
    "def sumDosVariables(x1,x2):\n",
    "    sum = 0\n",
    "    for valueX1, valueX2 in zip(x1,x2):\n",
    "        sum += float(valueX1) * float(valueX2)\n",
    "    return sum\n",
    "\n",
    "def promedio(x1):\n",
    "    sum = 0\n",
    "    for valueX1 in x1:\n",
    "        sum += float(valueX1)\n",
    "    return sum/len(x1) \n",
    "\n",
    "def restaDosVariables(x1,x2):\n",
    "    sum = 0\n",
    "    for valueX1, valueX2 in zip(x1,x2):\n",
    "        sum += pow(float(valueX1) - float(promedio(x2)), 2)\n",
    "    return sum\n",
    "\n",
    "gradosdelibertad=0.9\n",
    "def varianza(x1,x2):\n",
    "    sum = restaDosVariables(x1,x2)/gradosdelibertad*len(x1)  \n",
    "    return sum\n"
   ]
  },
  {
   "cell_type": "code",
   "execution_count": 22,
   "metadata": {},
   "outputs": [
    {
     "name": "stdout",
     "output_type": "stream",
     "text": [
      "Matriz X\n",
      "[[16131.  4542.]\n",
      " [ 4542.  1288.]]\n",
      "Matriz Y\n",
      "[[61782.88]\n",
      " [17455.76]]\n"
     ]
    }
   ],
   "source": [
    "x = np.matrix([[sumXCuadrado(np.array(X1)), sumDosVariables(np.array(X1),np.array(X2))], [sumDosVariables(np.array(X1),np.array(X2)), sumXCuadrado(np.array(X2))]])                                                   \n",
    "y = np.matrix([[sumDosVariables(np.array(Y),np.array(X1))], [sumDosVariables(np.array(Y),np.array(X2))]])                                           \n",
    "\n",
    "print(\"Matriz X\")                                                             \n",
    "print(x)                                                     \n",
    "print(\"Matriz Y\")\n",
    "print(y)"
   ]
  },
  {
   "cell_type": "code",
   "execution_count": 23,
   "metadata": {},
   "outputs": [
    {
     "name": "stdout",
     "output_type": "stream",
     "text": [
      "Matriz X transpuesta\n",
      "[[16131.  4542.]\n",
      " [ 4542.  1288.]]\n"
     ]
    }
   ],
   "source": [
    "xtransp = x.T\n",
    "print(\"Matriz X transpuesta\")\n",
    "print(x_transp)"
   ]
  },
  {
   "cell_type": "code",
   "execution_count": 24,
   "metadata": {},
   "outputs": [
    {
     "name": "stdout",
     "output_type": "stream",
     "text": [
      "[[ 0.00103196 -0.0036631 ]\n",
      " [-0.0036631   0.01300275]]\n"
     ]
    }
   ],
   "source": [
    "MatrizC = np.linalg.inv(xtransp * x)\n",
    "print(MatrizC)"
   ]
  },
  {
   "cell_type": "code",
   "execution_count": 25,
   "metadata": {},
   "outputs": [
    {
     "name": "stdout",
     "output_type": "stream",
     "text": [
      "Matriz covarianza\n",
      "[[ 2252991.16332976 -7997328.63216184]\n",
      " [-7997328.63216184 28387810.38111447]]\n"
     ]
    }
   ],
   "source": [
    "covarianzasmatriz = MatrizC*varianza(y,y)\n",
    "print(\"Matriz covarianza\")\n",
    "print(covarianzasmatriz)"
   ]
  },
  {
   "cell_type": "code",
   "execution_count": 26,
   "metadata": {},
   "outputs": [
    {
     "data": {
      "image/png": "[encoded data removed]",
      "text/plain": [
       "<Figure size 432x288 with 1 Axes>"
      ]
     },
     "metadata": {
      "needs_background": "light"
     },
     "output_type": "display_data"
    }
   ],
   "source": [
    "from scipy.stats import t\n",
    "\n",
    "import matplotlib.pyplot as plt\n",
    "\n",
    "fig, ax = plt.subplots(1, 1)"
   ]
  },
  {
   "cell_type": "code",
   "execution_count": 27,
   "metadata": {},
   "outputs": [],
   "source": [
    "df = 2.74\n",
    "\n",
    "mean, var, skew, kurt = t.stats(df, moments='mvsk')"
   ]
  },
  {
   "cell_type": "code",
   "execution_count": 30,
   "metadata": {},
   "outputs": [
    {
     "data": {
      "text/plain": [
       "[<matplotlib.lines.Line2D at 0x7f58fe2309a0>]"
      ]
     },
     "execution_count": 30,
     "metadata": {},
     "output_type": "execute_result"
    }
   ],
   "source": [
    "x = np.linspace(t.ppf(0.01, df),t.ppf(0.99, df), 100)\n",
    "\n",
    "ax.plot(x, t.pdf(x, df),'r-', lw=5, alpha=0.6, label='t pdf')"
   ]
  },
  {
   "cell_type": "code",
   "execution_count": 31,
   "metadata": {},
   "outputs": [
    {
     "data": {
      "text/plain": [
       "[<matplotlib.lines.Line2D at 0x7f58fe230550>]"
      ]
     },
     "execution_count": 31,
     "metadata": {},
     "output_type": "execute_result"
    }
   ],
   "source": [
    "rv = t(df)\n",
    "\n",
    "ax.plot(x, rv.pdf(x), 'k-', lw=2, label='frozen pdf')"
   ]
  },
  {
   "cell_type": "code",
   "execution_count": 32,
   "metadata": {},
   "outputs": [
    {
     "data": {
      "text/plain": [
       "True"
      ]
     },
     "execution_count": 32,
     "metadata": {},
     "output_type": "execute_result"
    }
   ],
   "source": [
    "vals = t.ppf([0.001, 0.5, 0.999], df)\n",
    "\n",
    "np.allclose([0.001, 0.5, 0.999], t.cdf(vals, df))"
   ]
  },
  {
   "cell_type": "code",
   "execution_count": 33,
   "metadata": {},
   "outputs": [],
   "source": [
    "r = t.rvs(df, size=1000)"
   ]
  },
  {
   "cell_type": "code",
   "execution_count": 35,
   "metadata": {},
   "outputs": [],
   "source": [
    "ax.hist(r, density=True, histtype='stepfilled', alpha=0.2)\n",
    "\n",
    "ax.legend(loc='best', frameon=False)\n",
    "\n",
    "plt.show()"
   ]
  },
  {
   "cell_type": "code",
   "execution_count": 36,
   "metadata": {},
   "outputs": [
    {
     "name": "stdout",
     "output_type": "stream",
     "text": [
      "t = 4.6506160785446005\n",
      "p = 0.00019886103430177826\n",
      "t = 4.6506160785446005\n",
      "p = 0.00019886103430190975\n"
     ]
    }
   ],
   "source": [
    "import numpy as np\n",
    "from scipy import stats\n",
    "\n",
    "\n",
    "## Define 2 random distributions\n",
    "#Sample Size\n",
    "N = 10\n",
    "#Gaussian distributed data with mean = 2 and var = 1\n",
    "a = np.random.randn(N) + 2\n",
    "#Gaussian distributed data with with mean = 0 and var = 1\n",
    "b = np.random.randn(N)\n",
    "\n",
    "\n",
    "## Calculate the Standard Deviation\n",
    "#Calculate the variance to get the standard deviation\n",
    "\n",
    "#For unbiased max likelihood estimate we have to divide the var by N-1, and therefore the parameter ddof = 1\n",
    "var_a = a.var(ddof=1)\n",
    "var_b = b.var(ddof=1)\n",
    "\n",
    "#std deviation\n",
    "s = np.sqrt((var_a + var_b)/2)\n",
    "s\n",
    "\n",
    "\n",
    "\n",
    "## Calculate the t-statistics\n",
    "t = (a.mean() - b.mean())/(s*np.sqrt(2/N))\n",
    "\n",
    "\n",
    "\n",
    "## Compare with the critical t-value\n",
    "#Degrees of freedom\n",
    "df = 2*N - 2\n",
    "\n",
    "#p-value after comparison with the t \n",
    "p = 1 - stats.t.cdf(t,df=df)\n",
    "\n",
    "\n",
    "print(\"t = \" + str(t))\n",
    "print(\"p = \" + str(2*p))\n",
    "### You can see that after comparing the t statistic with the critical t value (computed internally) we get a good p value of 0.0005 and thus we reject the null hypothesis and thus it proves that the mean of the two distributions are different and statistically significant.\n",
    "\n",
    "\n",
    "## Cross Checking with the internal scipy function\n",
    "t2, p2 = stats.ttest_ind(a,b)\n",
    "print(\"t = \" + str(t2))\n",
    "print(\"p = \" + str(p2))"
   ]
  },
  {
   "cell_type": "code",
   "execution_count": 37,
   "metadata": {},
   "outputs": [
    {
     "ename": "AttributeError",
     "evalue": "'numpy.float64' object has no attribute 'pdf'",
     "output_type": "error",
     "traceback": [
      "\u001b[0;31m---------------------------------------------------------------------------\u001b[0m",
      "\u001b[0;31mAttributeError\u001b[0m                            Traceback (most recent call last)",
      "\u001b[0;32m<ipython-input-37-6054195513c2>\u001b[0m in \u001b[0;36m<module>\u001b[0;34m\u001b[0m\n\u001b[1;32m      5\u001b[0m \u001b[0;34m\u001b[0m\u001b[0m\n\u001b[1;32m      6\u001b[0m \u001b[0;31m# Varying positional arguments\u001b[0m\u001b[0;34m\u001b[0m\u001b[0;34m\u001b[0m\u001b[0;34m\u001b[0m\u001b[0m\n\u001b[0;32m----> 7\u001b[0;31m \u001b[0my1\u001b[0m \u001b[0;34m=\u001b[0m \u001b[0mt\u001b[0m \u001b[0;34m.\u001b[0m\u001b[0mpdf\u001b[0m\u001b[0;34m(\u001b[0m\u001b[0mx\u001b[0m\u001b[0;34m,\u001b[0m \u001b[0;36m1\u001b[0m\u001b[0;34m,\u001b[0m \u001b[0;36m3\u001b[0m\u001b[0;34m,\u001b[0m \u001b[0;36m5\u001b[0m\u001b[0;34m)\u001b[0m\u001b[0;34m\u001b[0m\u001b[0;34m\u001b[0m\u001b[0m\n\u001b[0m\u001b[1;32m      8\u001b[0m \u001b[0my2\u001b[0m \u001b[0;34m=\u001b[0m \u001b[0mt\u001b[0m \u001b[0;34m.\u001b[0m\u001b[0mpdf\u001b[0m\u001b[0;34m(\u001b[0m\u001b[0mx\u001b[0m\u001b[0;34m,\u001b[0m \u001b[0;36m1\u001b[0m\u001b[0;34m,\u001b[0m \u001b[0;36m4\u001b[0m\u001b[0;34m,\u001b[0m \u001b[0;36m4\u001b[0m\u001b[0;34m)\u001b[0m\u001b[0;34m\u001b[0m\u001b[0;34m\u001b[0m\u001b[0m\n\u001b[1;32m      9\u001b[0m \u001b[0mplt\u001b[0m\u001b[0;34m.\u001b[0m\u001b[0mplot\u001b[0m\u001b[0;34m(\u001b[0m\u001b[0mx\u001b[0m\u001b[0;34m,\u001b[0m \u001b[0my1\u001b[0m\u001b[0;34m,\u001b[0m \u001b[0;34m\"*\"\u001b[0m\u001b[0;34m,\u001b[0m \u001b[0mx\u001b[0m\u001b[0;34m,\u001b[0m \u001b[0my2\u001b[0m\u001b[0;34m,\u001b[0m \u001b[0;34m\"r--\"\u001b[0m\u001b[0;34m)\u001b[0m\u001b[0;34m\u001b[0m\u001b[0;34m\u001b[0m\u001b[0m\n",
      "\u001b[0;31mAttributeError\u001b[0m: 'numpy.float64' object has no attribute 'pdf'"
     ]
    }
   ],
   "source": [
    "\n",
    "\n",
    "     \n",
    "x = np.linspace(0, 5, 100)  \n",
    "     \n",
    "# Varying positional arguments  \n",
    "y1 = t .pdf(x, 1, 3, 5)  \n",
    "y2 = t .pdf(x, 1, 4, 4)  \n",
    "plt.plot(x, y1, \"*\", x, y2, \"r--\")  \n"
   ]
  },
  {
   "cell_type": "code",
   "execution_count": null,
   "metadata": {},
   "outputs": [],
   "source": []
  }
 ],
 "metadata": {
  "kernelspec": {
   "display_name": "Python 3",
   "language": "python",
   "name": "python3"
  },
  "language_info": {
   "codemirror_mode": {
    "name": "ipython",
    "version": 3
   },
   "file_extension": ".py",
   "mimetype": "text/x-python",
   "name": "python",
   "nbconvert_exporter": "python",
   "pygments_lexer": "ipython3",
   "version": "3.8.5"
  }
 },
 "nbformat": 4,
 "nbformat_minor": 4
}
