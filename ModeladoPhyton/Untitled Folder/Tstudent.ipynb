{
 "cells": [
  {
   "cell_type": "code",
   "execution_count": 38,
   "metadata": {},
   "outputs": [],
   "source": [
    "import pandas as pd\n",
    "import numpy as np\n",
    "import math\n",
    "import matplotlib.pyplot as plt"
   ]
  },
  {
   "cell_type": "code",
   "execution_count": 4,
   "metadata": {},
   "outputs": [],
   "source": [
    "columns = pd.read_csv('datos.csv')\n",
    "Y = columns['promedio']\n",
    "X1 = columns['edad']\n",
    "X2 = columns['nmat']\n",
    "X3 = columns['hestudio']\n",
    "X4 = columns['recreo']\n",
    "X5 = columns['amigos']"
   ]
  },
  {
   "cell_type": "code",
   "execution_count": 21,
   "metadata": {},
   "outputs": [],
   "source": [
    "def sumXCuadrado(x):\n",
    "    sum = 0\n",
    "    for value in x:\n",
    "        sum += pow(float(value),2)\n",
    "    return sum\n",
    "\n",
    "def sumDosVariables(x1,x2):\n",
    "    sum = 0\n",
    "    for valueX1, valueX2 in zip(x1,x2):\n",
    "        sum += float(valueX1) * float(valueX2)\n",
    "    return sum\n",
    "\n",
    "def sumDosVariables(x1,x2):\n",
    "    sum = 0\n",
    "    for valueX1, valueX2 in zip(x1,x2):\n",
    "        sum += float(valueX1) * float(valueX2)\n",
    "    return sum\n",
    "\n",
    "def sumDosVariables(x1,x2):\n",
    "    sum = 0\n",
    "    for valueX1, valueX2 in zip(x1,x2):\n",
    "        sum += float(valueX1) * float(valueX2)\n",
    "    return sum\n",
    "\n",
    "def promedio(x1):\n",
    "    sum = 0\n",
    "    for valueX1 in x1:\n",
    "        sum += float(valueX1)\n",
    "    return sum/len(x1) \n",
    "\n",
    "def restaDosVariables(x1,x2):\n",
    "    sum = 0\n",
    "    for valueX1, valueX2 in zip(x1,x2):\n",
    "        sum += pow(float(valueX1) - float(promedio(x2)), 2)\n",
    "    return sum\n",
    "\n",
    "gradosdelibertad=0.9\n",
    "def varianza(x1,x2):\n",
    "    sum = restaDosVariables(x1,x2)/gradosdelibertad*len(x1)  \n",
    "    return sum\n"
   ]
  },
  {
   "cell_type": "code",
   "execution_count": 22,
   "metadata": {},
   "outputs": [
    {
     "name": "stdout",
     "output_type": "stream",
     "text": [
      "Matriz X\n",
      "[[16131.  4542.]\n",
      " [ 4542.  1288.]]\n",
      "Matriz Y\n",
      "[[61782.88]\n",
      " [17455.76]]\n"
     ]
    }
   ],
   "source": [
    "x = np.matrix([[sumXCuadrado(np.array(X1)), sumDosVariables(np.array(X1),np.array(X2))], [sumDosVariables(np.array(X1),np.array(X2)), sumXCuadrado(np.array(X2))]])                                                   \n",
    "y = np.matrix([[sumDosVariables(np.array(Y),np.array(X1))], [sumDosVariables(np.array(Y),np.array(X2))]])                                           \n",
    "\n",
    "print(\"Matriz X\")                                                             \n",
    "print(x)                                                     \n",
    "print(\"Matriz Y\")\n",
    "print(y)"
   ]
  },
  {
   "cell_type": "code",
   "execution_count": 23,
   "metadata": {},
   "outputs": [
    {
     "name": "stdout",
     "output_type": "stream",
     "text": [
      "Matriz X transpuesta\n",
      "[[16131.  4542.]\n",
      " [ 4542.  1288.]]\n"
     ]
    }
   ],
   "source": [
    "xtransp = x.T\n",
    "print(\"Matriz X transpuesta\")\n",
    "print(x_transp)"
   ]
  },
  {
   "cell_type": "code",
   "execution_count": 24,
   "metadata": {},
   "outputs": [
    {
     "name": "stdout",
     "output_type": "stream",
     "text": [
      "[[ 0.00103196 -0.0036631 ]\n",
      " [-0.0036631   0.01300275]]\n"
     ]
    }
   ],
   "source": [
    "MatrizC = np.linalg.inv(xtransp * x)\n",
    "print(MatrizC)"
   ]
  },
  {
   "cell_type": "code",
   "execution_count": 25,
   "metadata": {},
   "outputs": [
    {
     "name": "stdout",
     "output_type": "stream",
     "text": [
      "Matriz covarianza\n",
      "[[ 2252991.16332976 -7997328.63216184]\n",
      " [-7997328.63216184 28387810.38111447]]\n"
     ]
    }
   ],
   "source": [
    "covarianzasmatriz = MatrizC*varianza(y,y)\n",
    "print(\"Matriz covarianza\")\n",
    "print(covarianzasmatriz)"
   ]
  },
  {
   "cell_type": "code",
   "execution_count": 79,
   "metadata": {},
   "outputs": [
    {
     "data": {
      "text/plain": [
       "[<matplotlib.lines.Line2D at 0x7f58ea522790>]"
      ]
     },
     "execution_count": 79,
     "metadata": {},
     "output_type": "execute_result"
    },
    {
     "data": {
      "image/png": "[encoded data removed]",
      "text/plain": [
       "<Figure size 432x288 with 1 Axes>"
      ]
     },
     "metadata": {
      "needs_background": "light"
     },
     "output_type": "display_data"
    }
   ],
   "source": [
    "from scipy import stats\n",
    "dist = stats.norm()\n",
    "samp = dist.rvs(size=1000)\n",
    "x = np.linspace(start=stats.norm.ppf(0.01),stop=stats.norm.ppf(0.99), num=250)\n",
    "gkde = stats.gaussian_kde(dataset=samp)\n",
    "fig, ax = plt.subplots()\n",
    "ax.plot(x, gkde.evaluate(x), linestyle='dashed', c='black', lw=2)\n"
   ]
  },
  {
   "cell_type": "code",
   "execution_count": null,
   "metadata": {},
   "outputs": [],
   "source": []
  }
 ],
 "metadata": {
  "kernelspec": {
   "display_name": "Python 3",
   "language": "python",
   "name": "python3"
  },
  "language_info": {
   "codemirror_mode": {
    "name": "ipython",
    "version": 3
   },
   "file_extension": ".py",
   "mimetype": "text/x-python",
   "name": "python",
   "nbconvert_exporter": "python",
   "pygments_lexer": "ipython3",
   "version": "3.8.5"
  }
 },
 "nbformat": 4,
 "nbformat_minor": 4
}
